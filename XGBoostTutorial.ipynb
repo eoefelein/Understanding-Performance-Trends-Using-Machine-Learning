{
 "cells": [
  {
   "cell_type": "code",
   "execution_count": 1,
   "id": "631f8473-4463-49a0-935b-ce2695334fe7",
   "metadata": {},
   "outputs": [],
   "source": [
    "%load_ext lab_black"
   ]
  },
  {
   "cell_type": "code",
   "execution_count": 1,
   "id": "a2355095-7b1d-43ce-a976-1d41057e06ee",
   "metadata": {},
   "outputs": [],
   "source": [
    "# %env SKLEARN_ALLOW_DEPRECATED_SKLEARN_PACKAGE_INSTALL=True\n",
    "# %pip install pandas numpy imblearn scikit-learn matplotlib seaborn hgboost xgboost"
   ]
  },
  {
   "cell_type": "code",
   "execution_count": 24,
   "id": "d6d200fb-9026-4478-9232-b311fb74b8a3",
   "metadata": {},
   "outputs": [],
   "source": [
    "import pandas as pd  # Library for data manipulation and analysis\n",
    "import numpy as np\n",
    "\n",
    "# Libraries for handling imbalanced datasets and splitting data\n",
    "from imblearn.over_sampling import (\n",
    "    RandomOverSampler,\n",
    ")  # For oversampling minority classes\n",
    "from sklearn.utils import shuffle  # For shuffling data\n",
    "from sklearn.model_selection import (\n",
    "    train_test_split,\n",
    ")  # For splitting data into training and testing sets\n",
    "\n",
    "# Libraries for machine learning and model evaluation\n",
    "from hgboost import hgboost  # For hyperparameter tuning\n",
    "import xgboost as xgb  # XGBoost library for efficient gradient boosting trees\n",
    "from xgboost import XGBClassifier  # Classifier for classification tasks\n",
    "from sklearn.metrics import confusion_matrix  # For visualizing model performance\n",
    "from sklearn.metrics import accuracy_score  # For calculating model accuracy\n",
    "\n",
    "# Libraries for data visualization and model interpretation\n",
    "import matplotlib.pyplot as plt  # Basic plotting library\n",
    "import seaborn as sns  # Advanced plotting library for informative visualizations\n",
    "import shap"
   ]
  },
  {
   "cell_type": "markdown",
   "id": "5a00af4e-4daf-4dbe-8606-d20a41f7362b",
   "metadata": {},
   "source": [
    "# Data Prep"
   ]
  },
  {
   "cell_type": "code",
   "execution_count": 3,
   "id": "c09e3cf5-4a7e-4dc2-95a9-d639b15125f7",
   "metadata": {},
   "outputs": [],
   "source": [
    "clean_df = pd.read_csv(\"clean_imputed_clean_electrocatalyst.csv\").drop(\n",
    "    [\n",
    "        \"Post_Fe\",\n",
    "        \"Post_Co\",\n",
    "        \"Post_Se\",\n",
    "        \"Post_Mn\",\n",
    "        \"Post_Ni\",\n",
    "        \"Post_H\",\n",
    "        \"Post_O\",\n",
    "        \"Post_Cu\",\n",
    "    ],\n",
    "    axis=1,\n",
    ")\n",
    "cat_names = [\n",
    "    \"Initial_Fe\",\n",
    "    \"Initial_Co\",\n",
    "    \"Initial_Se\",\n",
    "    \"Initial_Mn\",\n",
    "    \"Initial_Ni\",\n",
    "    \"Initial_H\",\n",
    "    \"Initial_O\",\n",
    "    \"Initial_Cu\",\n",
    "    \"Substrate\",\n",
    "    \"Shape of Electrocatalyst\",\n",
    "    \"Deposition Method\",\n",
    "]\n",
    "cont_names = [\n",
    "    \"Specific Loading\",\n",
    "    \"Overpotential\",\n",
    "    \"Capacitance\",\n",
    "    \"Tafel Slope\",\n",
    "]"
   ]
  },
  {
   "cell_type": "code",
   "execution_count": 11,
   "id": "73cf5ccf-b521-4d54-a956-86fb73523796",
   "metadata": {},
   "outputs": [],
   "source": [
    "# split data into X and y\n",
    "X = clean_df.iloc[:, :-2]\n",
    "y = clean_df.iloc[:, -2].to_numpy()\n",
    "\n",
    "\n",
    "def encode_and_bind(original_dataframe):\n",
    "    dummy_df = []\n",
    "    for cols in original_dataframe[cat_names].columns:\n",
    "        dummy_df.append(pd.get_dummies(original_dataframe[[cols]]))\n",
    "    return pd.concat(dummy_df, axis=1)\n",
    "\n",
    "\n",
    "dummy_df = encode_and_bind(X[cat_names].astype(str))\n",
    "X_preprocessed = pd.concat([dummy_df, X[cont_names]], axis=1)"
   ]
  },
  {
   "cell_type": "code",
   "execution_count": 12,
   "id": "e3d48859-78e5-4f02-8c75-eb4726467e21",
   "metadata": {},
   "outputs": [
    {
     "data": {
      "text/plain": [
       "1    82\n",
       "0    82\n",
       "dtype: int64"
      ]
     },
     "execution_count": 12,
     "metadata": {},
     "output_type": "execute_result"
    }
   ],
   "source": [
    "# oversample\n",
    "ros = RandomOverSampler(random_state=0)  # set random_state for reproducibility\n",
    "X_resampled, y_resampled = ros.fit_resample(X, y)  # X_preprocessed\n",
    "# shuffle\n",
    "X_shuffled, y_shuffled = shuffle(X_resampled, y_resampled)\n",
    "# split to train, test, split\n",
    "X_train, X_test, y_train, y_test = train_test_split(\n",
    "    X_shuffled, y_shuffled, test_size=0.20, random_state=0\n",
    ")\n",
    "# display class counts\n",
    "pd.Series(y_shuffled).value_counts()"
   ]
  },
  {
   "cell_type": "markdown",
   "id": "d2011b66-7109-41f6-9f41-d752e9f60470",
   "metadata": {},
   "source": [
    "# Baseline Model"
   ]
  },
  {
   "cell_type": "code",
   "execution_count": 13,
   "id": "43064e5d-2040-42a7-a5b5-9dbd86bcaebd",
   "metadata": {},
   "outputs": [
    {
     "data": {
      "text/html": [
       "<style>#sk-container-id-1 {color: black;}#sk-container-id-1 pre{padding: 0;}#sk-container-id-1 div.sk-toggleable {background-color: white;}#sk-container-id-1 label.sk-toggleable__label {cursor: pointer;display: block;width: 100%;margin-bottom: 0;padding: 0.3em;box-sizing: border-box;text-align: center;}#sk-container-id-1 label.sk-toggleable__label-arrow:before {content: \"▸\";float: left;margin-right: 0.25em;color: #696969;}#sk-container-id-1 label.sk-toggleable__label-arrow:hover:before {color: black;}#sk-container-id-1 div.sk-estimator:hover label.sk-toggleable__label-arrow:before {color: black;}#sk-container-id-1 div.sk-toggleable__content {max-height: 0;max-width: 0;overflow: hidden;text-align: left;background-color: #f0f8ff;}#sk-container-id-1 div.sk-toggleable__content pre {margin: 0.2em;color: black;border-radius: 0.25em;background-color: #f0f8ff;}#sk-container-id-1 input.sk-toggleable__control:checked~div.sk-toggleable__content {max-height: 200px;max-width: 100%;overflow: auto;}#sk-container-id-1 input.sk-toggleable__control:checked~label.sk-toggleable__label-arrow:before {content: \"▾\";}#sk-container-id-1 div.sk-estimator input.sk-toggleable__control:checked~label.sk-toggleable__label {background-color: #d4ebff;}#sk-container-id-1 div.sk-label input.sk-toggleable__control:checked~label.sk-toggleable__label {background-color: #d4ebff;}#sk-container-id-1 input.sk-hidden--visually {border: 0;clip: rect(1px 1px 1px 1px);clip: rect(1px, 1px, 1px, 1px);height: 1px;margin: -1px;overflow: hidden;padding: 0;position: absolute;width: 1px;}#sk-container-id-1 div.sk-estimator {font-family: monospace;background-color: #f0f8ff;border: 1px dotted black;border-radius: 0.25em;box-sizing: border-box;margin-bottom: 0.5em;}#sk-container-id-1 div.sk-estimator:hover {background-color: #d4ebff;}#sk-container-id-1 div.sk-parallel-item::after {content: \"\";width: 100%;border-bottom: 1px solid gray;flex-grow: 1;}#sk-container-id-1 div.sk-label:hover label.sk-toggleable__label {background-color: #d4ebff;}#sk-container-id-1 div.sk-serial::before {content: \"\";position: absolute;border-left: 1px solid gray;box-sizing: border-box;top: 0;bottom: 0;left: 50%;z-index: 0;}#sk-container-id-1 div.sk-serial {display: flex;flex-direction: column;align-items: center;background-color: white;padding-right: 0.2em;padding-left: 0.2em;position: relative;}#sk-container-id-1 div.sk-item {position: relative;z-index: 1;}#sk-container-id-1 div.sk-parallel {display: flex;align-items: stretch;justify-content: center;background-color: white;position: relative;}#sk-container-id-1 div.sk-item::before, #sk-container-id-1 div.sk-parallel-item::before {content: \"\";position: absolute;border-left: 1px solid gray;box-sizing: border-box;top: 0;bottom: 0;left: 50%;z-index: -1;}#sk-container-id-1 div.sk-parallel-item {display: flex;flex-direction: column;z-index: 1;position: relative;background-color: white;}#sk-container-id-1 div.sk-parallel-item:first-child::after {align-self: flex-end;width: 50%;}#sk-container-id-1 div.sk-parallel-item:last-child::after {align-self: flex-start;width: 50%;}#sk-container-id-1 div.sk-parallel-item:only-child::after {width: 0;}#sk-container-id-1 div.sk-dashed-wrapped {border: 1px dashed gray;margin: 0 0.4em 0.5em 0.4em;box-sizing: border-box;padding-bottom: 0.4em;background-color: white;}#sk-container-id-1 div.sk-label label {font-family: monospace;font-weight: bold;display: inline-block;line-height: 1.2em;}#sk-container-id-1 div.sk-label-container {text-align: center;}#sk-container-id-1 div.sk-container {/* jupyter's `normalize.less` sets `[hidden] { display: none; }` but bootstrap.min.css set `[hidden] { display: none !important; }` so we also need the `!important` here to be able to override the default hidden behavior on the sphinx rendered scikit-learn.org. See: https://github.com/scikit-learn/scikit-learn/issues/21755 */display: inline-block !important;position: relative;}#sk-container-id-1 div.sk-text-repr-fallback {display: none;}</style><div id=\"sk-container-id-1\" class=\"sk-top-container\"><div class=\"sk-text-repr-fallback\"><pre>XGBClassifier(base_score=None, booster=None, callbacks=None,\n",
       "              colsample_bylevel=None, colsample_bynode=None,\n",
       "              colsample_bytree=None, early_stopping_rounds=None,\n",
       "              enable_categorical=True, eval_metric=None, feature_types=None,\n",
       "              gamma=None, gpu_id=None, grow_policy=None, importance_type=None,\n",
       "              interaction_constraints=None, learning_rate=None, max_bin=None,\n",
       "              max_cat_threshold=None, max_cat_to_onehot=None,\n",
       "              max_delta_step=None, max_depth=None, max_leaves=None,\n",
       "              min_child_weight=None, missing=nan, monotone_constraints=None,\n",
       "              n_estimators=100, n_jobs=None, num_parallel_tree=None,\n",
       "              predictor=None, random_state=None, ...)</pre><b>In a Jupyter environment, please rerun this cell to show the HTML representation or trust the notebook. <br />On GitHub, the HTML representation is unable to render, please try loading this page with nbviewer.org.</b></div><div class=\"sk-container\" hidden><div class=\"sk-item\"><div class=\"sk-estimator sk-toggleable\"><input class=\"sk-toggleable__control sk-hidden--visually\" id=\"sk-estimator-id-1\" type=\"checkbox\" checked><label for=\"sk-estimator-id-1\" class=\"sk-toggleable__label sk-toggleable__label-arrow\">XGBClassifier</label><div class=\"sk-toggleable__content\"><pre>XGBClassifier(base_score=None, booster=None, callbacks=None,\n",
       "              colsample_bylevel=None, colsample_bynode=None,\n",
       "              colsample_bytree=None, early_stopping_rounds=None,\n",
       "              enable_categorical=True, eval_metric=None, feature_types=None,\n",
       "              gamma=None, gpu_id=None, grow_policy=None, importance_type=None,\n",
       "              interaction_constraints=None, learning_rate=None, max_bin=None,\n",
       "              max_cat_threshold=None, max_cat_to_onehot=None,\n",
       "              max_delta_step=None, max_depth=None, max_leaves=None,\n",
       "              min_child_weight=None, missing=nan, monotone_constraints=None,\n",
       "              n_estimators=100, n_jobs=None, num_parallel_tree=None,\n",
       "              predictor=None, random_state=None, ...)</pre></div></div></div></div></div>"
      ],
      "text/plain": [
       "XGBClassifier(base_score=None, booster=None, callbacks=None,\n",
       "              colsample_bylevel=None, colsample_bynode=None,\n",
       "              colsample_bytree=None, early_stopping_rounds=None,\n",
       "              enable_categorical=True, eval_metric=None, feature_types=None,\n",
       "              gamma=None, gpu_id=None, grow_policy=None, importance_type=None,\n",
       "              interaction_constraints=None, learning_rate=None, max_bin=None,\n",
       "              max_cat_threshold=None, max_cat_to_onehot=None,\n",
       "              max_delta_step=None, max_depth=None, max_leaves=None,\n",
       "              min_child_weight=None, missing=nan, monotone_constraints=None,\n",
       "              n_estimators=100, n_jobs=None, num_parallel_tree=None,\n",
       "              predictor=None, random_state=None, ...)"
      ]
     },
     "execution_count": 13,
     "metadata": {},
     "output_type": "execute_result"
    }
   ],
   "source": [
    "# fit model\n",
    "model = XGBClassifier(tree_method=\"hist\", enable_categorical=True)\n",
    "model.fit(X_train, y_train)"
   ]
  },
  {
   "cell_type": "code",
   "execution_count": 14,
   "id": "abc91c27-bde3-4d79-a0e0-a1094520a91c",
   "metadata": {
    "scrolled": true
   },
   "outputs": [
    {
     "name": "stdout",
     "output_type": "stream",
     "text": [
      "Accuracy: 100.00%\n"
     ]
    }
   ],
   "source": [
    "# make predictions for test data\n",
    "y_pred = model.predict(X_test)\n",
    "# display accuracy\n",
    "accuracy = accuracy_score(y_test, y_pred)\n",
    "print(\"Accuracy: %.2f%%\" % (accuracy * 100.0))"
   ]
  },
  {
   "cell_type": "markdown",
   "id": "3830a202-a43f-41f5-91e7-9421d02c086a",
   "metadata": {},
   "source": [
    "100% is almost never a good thing with a Machine Learning model. This generally indicates overfiiting and a model that will perform poorly when applied to unseen data."
   ]
  },
  {
   "cell_type": "markdown",
   "id": "fea2b0df-2819-4ff1-a68b-1a7028d38846",
   "metadata": {},
   "source": [
    "# Hyperparameter Tuning"
   ]
  },
  {
   "cell_type": "code",
   "execution_count": 15,
   "id": "ca3ae987-68c5-4085-ac37-f790615b1a59",
   "metadata": {},
   "outputs": [],
   "source": [
    "# Initialize library\n",
    "hgb = hgboost(\n",
    "    max_eval=1000,       # Search space is based  on the number of evaluations.\n",
    "    threshold=0.5,       # Classification threshold. In case of two-class model this is 0.5.\n",
    "    cv=3,                # k-folds cross-validation.\n",
    "    test_size=0.2,       # Percentage split for the testset.\n",
    "    val_size=0.2,        # Percentage split for the validationset.\n",
    "    top_cv_evals=10,     # Number of top best performing models that is evaluated.\n",
    "    is_unbalance=False,  # Control the balance of positive and negative weights, useful for unbalanced classes.\n",
    "    random_state=0,      # Fix the random state to create reproducible results.\n",
    "    n_jobs=-1,           # The number of CPU jobs to run in parallel. -1 means using all processors.\n",
    "    gpu=False,           # Compute using GPU in case of True.\n",
    "    verbose=0,           # Print progress to screen.\n",
    ")"
   ]
  },
  {
   "cell_type": "code",
   "execution_count": 29,
   "id": "b70d3978-8c8f-4cbc-9532-939b061cfaa4",
   "metadata": {},
   "outputs": [
    {
     "name": "stdout",
     "output_type": "stream",
     "text": [
      "[hgboost] >Start hgboost classification.\n",
      "[hgboost] >Collecting xgb_clf parameters.\n",
      "[hgboost] >[13] hyperparameters in gridsearch space. Used loss function: [auc].\n",
      "[hgboost] >method: xgb_clf\n",
      "[hgboost] >eval_metric: auc\n",
      "[hgboost] >greater_is_better: True\n",
      "[hgboost] >*********************************************************************************\n",
      "[hgboost] >Total dataset: (97, 48) \n",
      "[hgboost] >Validation set: (20, 48) \n",
      "[hgboost] >Test-set: (24, 48) \n",
      "[hgboost] >Train-set: (53, 48) \n",
      "[hgboost] >*********************************************************************************\n",
      "[hgboost] >Searching across hyperparameter space for best performing parameters using maximum nr. evaluations: 1000\n",
      "100%|███████████████████| 1000/1000 [01:46<00:00,  9.35trial/s, best loss: -0.875]\n",
      "[hgboost]> Collecting the hyperparameters from the [1000] trials.\n",
      "[hgboost] >[auc]: 0.875 Best performing model across 1000 iterations using Bayesian Optimization with Hyperopt.\n",
      "[hgboost] >*********************************************************************************\n",
      "[hgboost] >3-fold cross validation for the top 10 scoring models, Total nr. tests: 30\n",
      "[hgboost] >[auc] (average): 0.9104 Best 3-fold CV model using optimized hyperparameters.\n",
      "[0]\tvalidation_0-logloss:0.51311\tvalidation_1-logloss:0.53728\n",
      "[1]\tvalidation_0-logloss:0.41756\tvalidation_1-logloss:0.46176\n",
      "[2]\tvalidation_0-logloss:0.35118\tvalidation_1-logloss:0.42481\n",
      "[3]\tvalidation_0-logloss:0.30712\tvalidation_1-logloss:0.39370\n",
      "[4]\tvalidation_0-logloss:0.27264\tvalidation_1-logloss:0.38314\n",
      "[5]\tvalidation_0-logloss:0.23520\tvalidation_1-logloss:0.35463\n",
      "[6]\tvalidation_0-logloss:0.20823\tvalidation_1-logloss:0.33638\n",
      "[7]\tvalidation_0-logloss:0.19275\tvalidation_1-logloss:0.33591\n",
      "[8]\tvalidation_0-logloss:0.18105\tvalidation_1-logloss:0.33304\n",
      "[9]\tvalidation_0-logloss:0.16741\tvalidation_1-logloss:0.32604\n",
      "[10]\tvalidation_0-logloss:0.15935\tvalidation_1-logloss:0.32984\n",
      "[11]\tvalidation_0-logloss:0.15102\tvalidation_1-logloss:0.32573\n",
      "[12]\tvalidation_0-logloss:0.14459\tvalidation_1-logloss:0.32496\n",
      "[13]\tvalidation_0-logloss:0.13823\tvalidation_1-logloss:0.32361\n",
      "[14]\tvalidation_0-logloss:0.13323\tvalidation_1-logloss:0.32349\n",
      "[15]\tvalidation_0-logloss:0.12791\tvalidation_1-logloss:0.33075\n",
      "[16]\tvalidation_0-logloss:0.12407\tvalidation_1-logloss:0.33206\n",
      "[17]\tvalidation_0-logloss:0.11998\tvalidation_1-logloss:0.33708\n",
      "[18]\tvalidation_0-logloss:0.11597\tvalidation_1-logloss:0.34507\n",
      "[19]\tvalidation_0-logloss:0.11413\tvalidation_1-logloss:0.34862\n",
      "[20]\tvalidation_0-logloss:0.11239\tvalidation_1-logloss:0.35051\n",
      "[21]\tvalidation_0-logloss:0.10948\tvalidation_1-logloss:0.35596\n",
      "[22]\tvalidation_0-logloss:0.10808\tvalidation_1-logloss:0.34867\n",
      "[23]\tvalidation_0-logloss:0.10672\tvalidation_1-logloss:0.35261\n",
      "[24]\tvalidation_0-logloss:0.10524\tvalidation_1-logloss:0.35145\n",
      "[25]\tvalidation_0-logloss:0.10231\tvalidation_1-logloss:0.35944\n",
      "[26]\tvalidation_0-logloss:0.10093\tvalidation_1-logloss:0.36375\n",
      "[27]\tvalidation_0-logloss:0.09964\tvalidation_1-logloss:0.36620\n",
      "[28]\tvalidation_0-logloss:0.09852\tvalidation_1-logloss:0.36855\n",
      "[29]\tvalidation_0-logloss:0.09741\tvalidation_1-logloss:0.37288\n",
      "[30]\tvalidation_0-logloss:0.09628\tvalidation_1-logloss:0.37186\n",
      "[31]\tvalidation_0-logloss:0.09532\tvalidation_1-logloss:0.37710\n",
      "[32]\tvalidation_0-logloss:0.09337\tvalidation_1-logloss:0.38252\n",
      "[33]\tvalidation_0-logloss:0.09220\tvalidation_1-logloss:0.38757\n",
      "[34]\tvalidation_0-logloss:0.09124\tvalidation_1-logloss:0.39160\n",
      "[35]\tvalidation_0-logloss:0.09026\tvalidation_1-logloss:0.39398\n",
      "[36]\tvalidation_0-logloss:0.08933\tvalidation_1-logloss:0.39880\n",
      "[37]\tvalidation_0-logloss:0.08835\tvalidation_1-logloss:0.39737\n",
      "[38]\tvalidation_0-logloss:0.08752\tvalidation_1-logloss:0.40117\n",
      "[39]\tvalidation_0-logloss:0.08664\tvalidation_1-logloss:0.40354\n",
      "[40]\tvalidation_0-logloss:0.08573\tvalidation_1-logloss:0.40840\n",
      "[41]\tvalidation_0-logloss:0.08494\tvalidation_1-logloss:0.41396\n",
      "[42]\tvalidation_0-logloss:0.08405\tvalidation_1-logloss:0.40698\n",
      "[43]\tvalidation_0-logloss:0.08330\tvalidation_1-logloss:0.40941\n",
      "[44]\tvalidation_0-logloss:0.08260\tvalidation_1-logloss:0.40817\n",
      "[45]\tvalidation_0-logloss:0.08196\tvalidation_1-logloss:0.41244\n",
      "[46]\tvalidation_0-logloss:0.08127\tvalidation_1-logloss:0.41781\n",
      "[47]\tvalidation_0-logloss:0.08052\tvalidation_1-logloss:0.41141\n",
      "[48]\tvalidation_0-logloss:0.07994\tvalidation_1-logloss:0.41634\n",
      "[49]\tvalidation_0-logloss:0.07933\tvalidation_1-logloss:0.41056\n",
      "[50]\tvalidation_0-logloss:0.07866\tvalidation_1-logloss:0.41567\n",
      "[51]\tvalidation_0-logloss:0.07810\tvalidation_1-logloss:0.41448\n",
      "[52]\tvalidation_0-logloss:0.07756\tvalidation_1-logloss:0.41920\n",
      "[53]\tvalidation_0-logloss:0.07703\tvalidation_1-logloss:0.41378\n",
      "[54]\tvalidation_0-logloss:0.07644\tvalidation_1-logloss:0.41859\n",
      "[55]\tvalidation_0-logloss:0.07595\tvalidation_1-logloss:0.42076\n",
      "[56]\tvalidation_0-logloss:0.07548\tvalidation_1-logloss:0.41566\n",
      "[57]\tvalidation_0-logloss:0.07495\tvalidation_1-logloss:0.42040\n",
      "[58]\tvalidation_0-logloss:0.07447\tvalidation_1-logloss:0.42481\n",
      "[59]\tvalidation_0-logloss:0.07402\tvalidation_1-logloss:0.41974\n",
      "[60]\tvalidation_0-logloss:0.07354\tvalidation_1-logloss:0.42424\n",
      "[61]\tvalidation_0-logloss:0.07314\tvalidation_1-logloss:0.42838\n",
      "[62]\tvalidation_0-logloss:0.07271\tvalidation_1-logloss:0.42338\n",
      "[63]\tvalidation_0-logloss:0.07229\tvalidation_1-logloss:0.42767\n",
      "[64]\tvalidation_0-logloss:0.07190\tvalidation_1-logloss:0.42652\n",
      "[65]\tvalidation_0-logloss:0.07153\tvalidation_1-logloss:0.43048\n",
      "[66]\tvalidation_0-logloss:0.07115\tvalidation_1-logloss:0.42578\n",
      "[67]\tvalidation_0-logloss:0.07077\tvalidation_1-logloss:0.42986\n",
      "[68]\tvalidation_0-logloss:0.07044\tvalidation_1-logloss:0.43176\n",
      "[69]\tvalidation_0-logloss:0.07008\tvalidation_1-logloss:0.42720\n",
      "[70]\tvalidation_0-logloss:0.06974\tvalidation_1-logloss:0.43109\n",
      "[71]\tvalidation_0-logloss:0.06945\tvalidation_1-logloss:0.43011\n",
      "[72]\tvalidation_0-logloss:0.06918\tvalidation_1-logloss:0.42620\n",
      "[73]\tvalidation_0-logloss:0.06889\tvalidation_1-logloss:0.42802\n",
      "[74]\tvalidation_0-logloss:0.06865\tvalidation_1-logloss:0.42594\n",
      "[75]\tvalidation_0-logloss:0.06841\tvalidation_1-logloss:0.42764\n",
      "[76]\tvalidation_0-logloss:0.06820\tvalidation_1-logloss:0.42574\n",
      "[77]\tvalidation_0-logloss:0.06800\tvalidation_1-logloss:0.42731\n",
      "[78]\tvalidation_0-logloss:0.06782\tvalidation_1-logloss:0.42666\n",
      "[79]\tvalidation_0-logloss:0.06766\tvalidation_1-logloss:0.42501\n",
      "[80]\tvalidation_0-logloss:0.06749\tvalidation_1-logloss:0.42647\n",
      "[81]\tvalidation_0-logloss:0.06735\tvalidation_1-logloss:0.42496\n",
      "[82]\tvalidation_0-logloss:0.06721\tvalidation_1-logloss:0.42631\n",
      "[83]\tvalidation_0-logloss:0.06707\tvalidation_1-logloss:0.42523\n",
      "[84]\tvalidation_0-logloss:0.06695\tvalidation_1-logloss:0.42263\n",
      "[85]\tvalidation_0-logloss:0.06683\tvalidation_1-logloss:0.42390\n",
      "[86]\tvalidation_0-logloss:0.06671\tvalidation_1-logloss:0.42345\n",
      "[87]\tvalidation_0-logloss:0.06661\tvalidation_1-logloss:0.42214\n",
      "[88]\tvalidation_0-logloss:0.06650\tvalidation_1-logloss:0.42332\n",
      "[89]\tvalidation_0-logloss:0.06641\tvalidation_1-logloss:0.42222\n",
      "[90]\tvalidation_0-logloss:0.06632\tvalidation_1-logloss:0.42019\n",
      "[91]\tvalidation_0-logloss:0.06625\tvalidation_1-logloss:0.41912\n",
      "[92]\tvalidation_0-logloss:0.06618\tvalidation_1-logloss:0.41882\n",
      "[93]\tvalidation_0-logloss:0.06613\tvalidation_1-logloss:0.41725\n",
      "[94]\tvalidation_0-logloss:0.06608\tvalidation_1-logloss:0.41641\n",
      "[95]\tvalidation_0-logloss:0.06603\tvalidation_1-logloss:0.41582\n",
      "[96]\tvalidation_0-logloss:0.06598\tvalidation_1-logloss:0.41473\n",
      "[97]\tvalidation_0-logloss:0.06594\tvalidation_1-logloss:0.41416\n",
      "[98]\tvalidation_0-logloss:0.06589\tvalidation_1-logloss:0.41312\n",
      "[99]\tvalidation_0-logloss:0.06584\tvalidation_1-logloss:0.41176\n",
      "[hgboost] >*********************************************************************************\n",
      "[hgboost] >Evaluate best [xgb_clf] model on validation dataset (20 samples, 20%)\n",
      "[hgboost] >[auc]: -0.9216 using optimized hyperparameters on validation set.\n",
      "[hgboost] >[auc]: -0.8627 using default (not optimized) parameters on validation set.\n",
      "[hgboost] >*********************************************************************************\n",
      "[hgboost] >Retrain [xgb_clf] on the entire dataset with the optimal hyperparameters.\n",
      "[hgboost] >Fin!\n"
     ]
    }
   ],
   "source": [
    "results = hgb.xgboost(X_preprocessed, y, pos_label=1, eval_metric=\"auc\")  # XGBoost"
   ]
  },
  {
   "cell_type": "code",
   "execution_count": 30,
   "id": "c4596c68-9d40-4898-895c-8423ba050241",
   "metadata": {},
   "outputs": [
    {
     "name": "stdout",
     "output_type": "stream",
     "text": [
      "{'colsample_bytree': 0.66, 'gamma': 4, 'learning_rate': 0.010029338897541169, 'max_depth': 10, 'min_child_weight': 10.0, 'n_estimators': 195, 'scale_pos_weight': 10, 'subsample': 0.96}\n"
     ]
    }
   ],
   "source": [
    "# display\n",
    "print(results[\"params\"])"
   ]
  },
  {
   "cell_type": "markdown",
   "id": "72daf270-9276-4b5f-a824-500d685842d2",
   "metadata": {},
   "source": [
    "# Tuned Model"
   ]
  },
  {
   "cell_type": "code",
   "execution_count": 32,
   "id": "9ef5de6e-d825-43e7-97d5-26778d17e5a1",
   "metadata": {
    "scrolled": true
   },
   "outputs": [
    {
     "name": "stdout",
     "output_type": "stream",
     "text": [
      "[0]\tvalidation_0-logloss:0.68749\n",
      "[1]\tvalidation_0-logloss:0.68133\n",
      "[2]\tvalidation_0-logloss:0.67596\n",
      "[3]\tvalidation_0-logloss:0.67133\n",
      "[4]\tvalidation_0-logloss:0.66645\n",
      "[5]\tvalidation_0-logloss:0.66126\n",
      "[6]\tvalidation_0-logloss:0.65606\n",
      "[7]\tvalidation_0-logloss:0.65173\n",
      "[8]\tvalidation_0-logloss:0.64727\n",
      "[9]\tvalidation_0-logloss:0.64284\n",
      "[10]\tvalidation_0-logloss:0.63881\n",
      "[11]\tvalidation_0-logloss:0.63408\n",
      "[12]\tvalidation_0-logloss:0.63026\n",
      "[13]\tvalidation_0-logloss:0.62560\n",
      "[14]\tvalidation_0-logloss:0.62111\n",
      "[15]\tvalidation_0-logloss:0.61758\n",
      "[16]\tvalidation_0-logloss:0.61400\n",
      "[17]\tvalidation_0-logloss:0.61005\n",
      "[18]\tvalidation_0-logloss:0.60571\n",
      "[19]\tvalidation_0-logloss:0.60177\n",
      "[20]\tvalidation_0-logloss:0.59799\n",
      "[21]\tvalidation_0-logloss:0.59474\n",
      "[22]\tvalidation_0-logloss:0.59320\n",
      "[23]\tvalidation_0-logloss:0.59072\n",
      "[24]\tvalidation_0-logloss:0.58491\n",
      "[25]\tvalidation_0-logloss:0.58138\n",
      "[26]\tvalidation_0-logloss:0.57939\n",
      "[27]\tvalidation_0-logloss:0.57745\n",
      "[28]\tvalidation_0-logloss:0.57358\n",
      "[29]\tvalidation_0-logloss:0.57022\n",
      "[30]\tvalidation_0-logloss:0.56605\n",
      "[31]\tvalidation_0-logloss:0.56318\n",
      "[32]\tvalidation_0-logloss:0.55910\n",
      "[33]\tvalidation_0-logloss:0.55786\n",
      "[34]\tvalidation_0-logloss:0.55464\n",
      "[35]\tvalidation_0-logloss:0.54936\n",
      "[36]\tvalidation_0-logloss:0.54673\n",
      "[37]\tvalidation_0-logloss:0.54418\n",
      "[38]\tvalidation_0-logloss:0.54102\n",
      "[39]\tvalidation_0-logloss:0.53777\n",
      "[40]\tvalidation_0-logloss:0.53519\n",
      "[41]\tvalidation_0-logloss:0.53376\n",
      "[42]\tvalidation_0-logloss:0.53231\n",
      "[43]\tvalidation_0-logloss:0.52978\n",
      "[44]\tvalidation_0-logloss:0.52617\n",
      "[45]\tvalidation_0-logloss:0.52305\n",
      "[46]\tvalidation_0-logloss:0.51957\n",
      "[47]\tvalidation_0-logloss:0.51700\n",
      "[48]\tvalidation_0-logloss:0.51223\n",
      "[49]\tvalidation_0-logloss:0.50951\n",
      "[50]\tvalidation_0-logloss:0.50737\n",
      "[51]\tvalidation_0-logloss:0.50481\n",
      "[52]\tvalidation_0-logloss:0.50247\n",
      "[53]\tvalidation_0-logloss:0.49997\n",
      "[54]\tvalidation_0-logloss:0.49817\n",
      "[55]\tvalidation_0-logloss:0.49561\n",
      "[56]\tvalidation_0-logloss:0.49476\n",
      "[57]\tvalidation_0-logloss:0.49224\n",
      "[58]\tvalidation_0-logloss:0.48959\n",
      "[59]\tvalidation_0-logloss:0.48694\n",
      "[60]\tvalidation_0-logloss:0.48395\n",
      "[61]\tvalidation_0-logloss:0.48157\n",
      "[62]\tvalidation_0-logloss:0.47892\n",
      "[63]\tvalidation_0-logloss:0.47815\n",
      "[64]\tvalidation_0-logloss:0.47708\n",
      "[65]\tvalidation_0-logloss:0.47446\n",
      "[66]\tvalidation_0-logloss:0.47219\n",
      "[67]\tvalidation_0-logloss:0.47110\n",
      "[68]\tvalidation_0-logloss:0.47043\n",
      "[69]\tvalidation_0-logloss:0.46810\n",
      "[70]\tvalidation_0-logloss:0.46514\n",
      "[71]\tvalidation_0-logloss:0.46281\n",
      "[72]\tvalidation_0-logloss:0.46218\n",
      "[73]\tvalidation_0-logloss:0.45989\n",
      "[74]\tvalidation_0-logloss:0.45586\n",
      "[75]\tvalidation_0-logloss:0.45445\n",
      "[76]\tvalidation_0-logloss:0.45391\n",
      "[77]\tvalidation_0-logloss:0.44994\n",
      "[78]\tvalidation_0-logloss:0.44859\n",
      "[79]\tvalidation_0-logloss:0.44475\n",
      "[80]\tvalidation_0-logloss:0.44429\n",
      "[81]\tvalidation_0-logloss:0.44293\n",
      "[82]\tvalidation_0-logloss:0.44137\n",
      "[83]\tvalidation_0-logloss:0.43954\n",
      "[84]\tvalidation_0-logloss:0.43908\n",
      "[85]\tvalidation_0-logloss:0.43765\n",
      "[86]\tvalidation_0-logloss:0.43553\n",
      "[87]\tvalidation_0-logloss:0.43424\n",
      "[88]\tvalidation_0-logloss:0.43276\n",
      "[89]\tvalidation_0-logloss:0.43074\n",
      "[90]\tvalidation_0-logloss:0.42943\n",
      "[91]\tvalidation_0-logloss:0.42748\n",
      "[92]\tvalidation_0-logloss:0.42554\n",
      "[93]\tvalidation_0-logloss:0.42530\n",
      "[94]\tvalidation_0-logloss:0.42357\n",
      "[95]\tvalidation_0-logloss:0.42169\n",
      "[96]\tvalidation_0-logloss:0.42051\n",
      "[97]\tvalidation_0-logloss:0.41892\n",
      "[98]\tvalidation_0-logloss:0.41729\n",
      "[99]\tvalidation_0-logloss:0.41572\n",
      "[100]\tvalidation_0-logloss:0.41452\n",
      "[101]\tvalidation_0-logloss:0.41273\n",
      "[102]\tvalidation_0-logloss:0.41168\n",
      "[103]\tvalidation_0-logloss:0.40983\n",
      "[104]\tvalidation_0-logloss:0.40851\n",
      "[105]\tvalidation_0-logloss:0.40730\n",
      "[106]\tvalidation_0-logloss:0.40587\n",
      "[107]\tvalidation_0-logloss:0.40426\n",
      "[108]\tvalidation_0-logloss:0.40309\n",
      "[109]\tvalidation_0-logloss:0.39972\n",
      "[110]\tvalidation_0-logloss:0.39800\n",
      "[111]\tvalidation_0-logloss:0.39669\n",
      "[112]\tvalidation_0-logloss:0.39569\n",
      "[113]\tvalidation_0-logloss:0.39535\n",
      "[114]\tvalidation_0-logloss:0.39437\n",
      "[115]\tvalidation_0-logloss:0.39340\n",
      "[116]\tvalidation_0-logloss:0.39195\n",
      "[117]\tvalidation_0-logloss:0.39142\n",
      "[118]\tvalidation_0-logloss:0.39117\n",
      "[119]\tvalidation_0-logloss:0.38887\n",
      "[120]\tvalidation_0-logloss:0.38786\n",
      "[121]\tvalidation_0-logloss:0.38672\n",
      "[122]\tvalidation_0-logloss:0.38649\n",
      "[123]\tvalidation_0-logloss:0.38627\n",
      "[124]\tvalidation_0-logloss:0.38568\n",
      "[125]\tvalidation_0-logloss:0.38542\n",
      "[126]\tvalidation_0-logloss:0.38375\n",
      "[127]\tvalidation_0-logloss:0.38220\n",
      "[128]\tvalidation_0-logloss:0.37994\n",
      "[129]\tvalidation_0-logloss:0.37835\n",
      "[130]\tvalidation_0-logloss:0.37525\n",
      "[131]\tvalidation_0-logloss:0.37503\n",
      "[132]\tvalidation_0-logloss:0.37343\n",
      "[133]\tvalidation_0-logloss:0.37321\n",
      "[134]\tvalidation_0-logloss:0.37162\n",
      "[135]\tvalidation_0-logloss:0.37008\n",
      "[136]\tvalidation_0-logloss:0.36880\n",
      "[137]\tvalidation_0-logloss:0.36671\n",
      "[138]\tvalidation_0-logloss:0.36381\n",
      "[139]\tvalidation_0-logloss:0.36236\n",
      "[140]\tvalidation_0-logloss:0.36213\n",
      "[141]\tvalidation_0-logloss:0.36065\n",
      "[142]\tvalidation_0-logloss:0.35921\n",
      "[143]\tvalidation_0-logloss:0.35904\n",
      "[144]\tvalidation_0-logloss:0.35885\n",
      "[145]\tvalidation_0-logloss:0.35642\n",
      "[146]\tvalidation_0-logloss:0.35518\n",
      "[147]\tvalidation_0-logloss:0.35499\n",
      "[148]\tvalidation_0-logloss:0.35419\n",
      "[149]\tvalidation_0-logloss:0.35399\n",
      "[150]\tvalidation_0-logloss:0.35272\n",
      "[151]\tvalidation_0-logloss:0.35129\n",
      "[152]\tvalidation_0-logloss:0.35110\n",
      "[153]\tvalidation_0-logloss:0.34969\n",
      "[154]\tvalidation_0-logloss:0.34835\n",
      "[155]\tvalidation_0-logloss:0.34777\n",
      "[156]\tvalidation_0-logloss:0.34504\n",
      "[157]\tvalidation_0-logloss:0.34384\n",
      "[158]\tvalidation_0-logloss:0.34343\n",
      "[159]\tvalidation_0-logloss:0.34233\n",
      "[160]\tvalidation_0-logloss:0.34248\n",
      "[161]\tvalidation_0-logloss:0.34262\n",
      "[162]\tvalidation_0-logloss:0.34126\n",
      "[163]\tvalidation_0-logloss:0.34053\n",
      "[164]\tvalidation_0-logloss:0.33910\n",
      "[165]\tvalidation_0-logloss:0.33651\n",
      "[166]\tvalidation_0-logloss:0.33526\n",
      "[167]\tvalidation_0-logloss:0.33515\n",
      "[168]\tvalidation_0-logloss:0.33394\n",
      "[169]\tvalidation_0-logloss:0.33285\n",
      "[170]\tvalidation_0-logloss:0.33266\n",
      "[171]\tvalidation_0-logloss:0.33157\n",
      "[172]\tvalidation_0-logloss:0.33138\n",
      "[173]\tvalidation_0-logloss:0.32959\n",
      "[174]\tvalidation_0-logloss:0.32786\n",
      "[175]\tvalidation_0-logloss:0.32773\n",
      "[176]\tvalidation_0-logloss:0.32561\n",
      "[177]\tvalidation_0-logloss:0.32549\n",
      "[178]\tvalidation_0-logloss:0.32536\n",
      "[179]\tvalidation_0-logloss:0.32438\n",
      "[180]\tvalidation_0-logloss:0.32332\n",
      "[181]\tvalidation_0-logloss:0.32181\n",
      "[182]\tvalidation_0-logloss:0.32162\n",
      "[183]\tvalidation_0-logloss:0.32052\n",
      "[184]\tvalidation_0-logloss:0.31950\n",
      "[185]\tvalidation_0-logloss:0.31932\n",
      "[186]\tvalidation_0-logloss:0.31833\n",
      "[187]\tvalidation_0-logloss:0.31822\n",
      "[188]\tvalidation_0-logloss:0.31799\n",
      "[189]\tvalidation_0-logloss:0.31691\n",
      "[190]\tvalidation_0-logloss:0.31680\n",
      "[191]\tvalidation_0-logloss:0.31571\n",
      "[192]\tvalidation_0-logloss:0.31569\n",
      "[193]\tvalidation_0-logloss:0.31459\n",
      "[194]\tvalidation_0-logloss:0.31450\n"
     ]
    },
    {
     "data": {
      "text/html": [
       "<style>#sk-container-id-5 {color: black;}#sk-container-id-5 pre{padding: 0;}#sk-container-id-5 div.sk-toggleable {background-color: white;}#sk-container-id-5 label.sk-toggleable__label {cursor: pointer;display: block;width: 100%;margin-bottom: 0;padding: 0.3em;box-sizing: border-box;text-align: center;}#sk-container-id-5 label.sk-toggleable__label-arrow:before {content: \"▸\";float: left;margin-right: 0.25em;color: #696969;}#sk-container-id-5 label.sk-toggleable__label-arrow:hover:before {color: black;}#sk-container-id-5 div.sk-estimator:hover label.sk-toggleable__label-arrow:before {color: black;}#sk-container-id-5 div.sk-toggleable__content {max-height: 0;max-width: 0;overflow: hidden;text-align: left;background-color: #f0f8ff;}#sk-container-id-5 div.sk-toggleable__content pre {margin: 0.2em;color: black;border-radius: 0.25em;background-color: #f0f8ff;}#sk-container-id-5 input.sk-toggleable__control:checked~div.sk-toggleable__content {max-height: 200px;max-width: 100%;overflow: auto;}#sk-container-id-5 input.sk-toggleable__control:checked~label.sk-toggleable__label-arrow:before {content: \"▾\";}#sk-container-id-5 div.sk-estimator input.sk-toggleable__control:checked~label.sk-toggleable__label {background-color: #d4ebff;}#sk-container-id-5 div.sk-label input.sk-toggleable__control:checked~label.sk-toggleable__label {background-color: #d4ebff;}#sk-container-id-5 input.sk-hidden--visually {border: 0;clip: rect(1px 1px 1px 1px);clip: rect(1px, 1px, 1px, 1px);height: 1px;margin: -1px;overflow: hidden;padding: 0;position: absolute;width: 1px;}#sk-container-id-5 div.sk-estimator {font-family: monospace;background-color: #f0f8ff;border: 1px dotted black;border-radius: 0.25em;box-sizing: border-box;margin-bottom: 0.5em;}#sk-container-id-5 div.sk-estimator:hover {background-color: #d4ebff;}#sk-container-id-5 div.sk-parallel-item::after {content: \"\";width: 100%;border-bottom: 1px solid gray;flex-grow: 1;}#sk-container-id-5 div.sk-label:hover label.sk-toggleable__label {background-color: #d4ebff;}#sk-container-id-5 div.sk-serial::before {content: \"\";position: absolute;border-left: 1px solid gray;box-sizing: border-box;top: 0;bottom: 0;left: 50%;z-index: 0;}#sk-container-id-5 div.sk-serial {display: flex;flex-direction: column;align-items: center;background-color: white;padding-right: 0.2em;padding-left: 0.2em;position: relative;}#sk-container-id-5 div.sk-item {position: relative;z-index: 1;}#sk-container-id-5 div.sk-parallel {display: flex;align-items: stretch;justify-content: center;background-color: white;position: relative;}#sk-container-id-5 div.sk-item::before, #sk-container-id-5 div.sk-parallel-item::before {content: \"\";position: absolute;border-left: 1px solid gray;box-sizing: border-box;top: 0;bottom: 0;left: 50%;z-index: -1;}#sk-container-id-5 div.sk-parallel-item {display: flex;flex-direction: column;z-index: 1;position: relative;background-color: white;}#sk-container-id-5 div.sk-parallel-item:first-child::after {align-self: flex-end;width: 50%;}#sk-container-id-5 div.sk-parallel-item:last-child::after {align-self: flex-start;width: 50%;}#sk-container-id-5 div.sk-parallel-item:only-child::after {width: 0;}#sk-container-id-5 div.sk-dashed-wrapped {border: 1px dashed gray;margin: 0 0.4em 0.5em 0.4em;box-sizing: border-box;padding-bottom: 0.4em;background-color: white;}#sk-container-id-5 div.sk-label label {font-family: monospace;font-weight: bold;display: inline-block;line-height: 1.2em;}#sk-container-id-5 div.sk-label-container {text-align: center;}#sk-container-id-5 div.sk-container {/* jupyter's `normalize.less` sets `[hidden] { display: none; }` but bootstrap.min.css set `[hidden] { display: none !important; }` so we also need the `!important` here to be able to override the default hidden behavior on the sphinx rendered scikit-learn.org. See: https://github.com/scikit-learn/scikit-learn/issues/21755 */display: inline-block !important;position: relative;}#sk-container-id-5 div.sk-text-repr-fallback {display: none;}</style><div id=\"sk-container-id-5\" class=\"sk-top-container\"><div class=\"sk-text-repr-fallback\"><pre>XGBClassifier(base_score=None, booster=None, callbacks=None,\n",
       "              colsample_bylevel=None, colsample_bynode=None,\n",
       "              colsample_bytree=0.66, early_stopping_rounds=None,\n",
       "              enable_categorical=False, eval_metric=None, feature_types=None,\n",
       "              gamma=4, gpu_id=None, grow_policy=None, importance_type=None,\n",
       "              interaction_constraints=None, learning_rate=0.01, max_bin=None,\n",
       "              max_cat_threshold=None, max_cat_to_onehot=None,\n",
       "              max_delta_step=None, max_depth=10, max_leaves=None,\n",
       "              min_child_weight=10.0, missing=nan, monotone_constraints=None,\n",
       "              n_estimators=195, n_jobs=None, num_parallel_tree=None,\n",
       "              predictor=None, random_state=None, ...)</pre><b>In a Jupyter environment, please rerun this cell to show the HTML representation or trust the notebook. <br />On GitHub, the HTML representation is unable to render, please try loading this page with nbviewer.org.</b></div><div class=\"sk-container\" hidden><div class=\"sk-item\"><div class=\"sk-estimator sk-toggleable\"><input class=\"sk-toggleable__control sk-hidden--visually\" id=\"sk-estimator-id-5\" type=\"checkbox\" checked><label for=\"sk-estimator-id-5\" class=\"sk-toggleable__label sk-toggleable__label-arrow\">XGBClassifier</label><div class=\"sk-toggleable__content\"><pre>XGBClassifier(base_score=None, booster=None, callbacks=None,\n",
       "              colsample_bylevel=None, colsample_bynode=None,\n",
       "              colsample_bytree=0.66, early_stopping_rounds=None,\n",
       "              enable_categorical=False, eval_metric=None, feature_types=None,\n",
       "              gamma=4, gpu_id=None, grow_policy=None, importance_type=None,\n",
       "              interaction_constraints=None, learning_rate=0.01, max_bin=None,\n",
       "              max_cat_threshold=None, max_cat_to_onehot=None,\n",
       "              max_delta_step=None, max_depth=10, max_leaves=None,\n",
       "              min_child_weight=10.0, missing=nan, monotone_constraints=None,\n",
       "              n_estimators=195, n_jobs=None, num_parallel_tree=None,\n",
       "              predictor=None, random_state=None, ...)</pre></div></div></div></div></div>"
      ],
      "text/plain": [
       "XGBClassifier(base_score=None, booster=None, callbacks=None,\n",
       "              colsample_bylevel=None, colsample_bynode=None,\n",
       "              colsample_bytree=0.66, early_stopping_rounds=None,\n",
       "              enable_categorical=False, eval_metric=None, feature_types=None,\n",
       "              gamma=4, gpu_id=None, grow_policy=None, importance_type=None,\n",
       "              interaction_constraints=None, learning_rate=0.01, max_bin=None,\n",
       "              max_cat_threshold=None, max_cat_to_onehot=None,\n",
       "              max_delta_step=None, max_depth=10, max_leaves=None,\n",
       "              min_child_weight=10.0, missing=nan, monotone_constraints=None,\n",
       "              n_estimators=195, n_jobs=None, num_parallel_tree=None,\n",
       "              predictor=None, random_state=None, ...)"
      ]
     },
     "execution_count": 32,
     "metadata": {},
     "output_type": "execute_result"
    }
   ],
   "source": [
    "# fit model with hyperparameters\n",
    "model = xgb.XGBClassifier(\n",
    "    tree_method=\"hist\",\n",
    "    enable_categorical=False,\n",
    "    colsample_bytree=0.66,\n",
    "    gamma=4,  # controls the minimum gain required for a split\n",
    "    learning_rate=0.01,\n",
    "    max_depth=10,\n",
    "    min_child_weight=10.0,  # controls the minimum sum of weights required to create a new child node in a decision tree\n",
    "    n_estimators=195,\n",
    "    scale_pos_weight=10,\n",
    "    subsample=0.96,\n",
    "    reg_alpha=0.1,\n",
    "    reg_lambda=0.2,\n",
    ")\n",
    "model.fit(X_train, y_train, eval_set=[(X_test, y_test)])"
   ]
  },
  {
   "cell_type": "code",
   "execution_count": 33,
   "id": "35f4f2a2-f12b-4b2a-8cb5-628567eca60d",
   "metadata": {},
   "outputs": [
    {
     "name": "stdout",
     "output_type": "stream",
     "text": [
      "Accuracy: 87.88%\n"
     ]
    }
   ],
   "source": [
    "y_pred = model.predict(X_test)\n",
    "# evaluate predictions\n",
    "accuracy = accuracy_score(y_test, y_pred)\n",
    "print(\"Accuracy: %.2f%%\" % (accuracy * 100.0))"
   ]
  },
  {
   "cell_type": "code",
   "execution_count": 34,
   "id": "db2ba972-1cba-4056-8953-e0c3ba00f2d4",
   "metadata": {},
   "outputs": [
    {
     "data": {
      "image/png": "[encoded data removed]",
      "text/plain": [
       "<Figure size 800x600 with 2 Axes>"
      ]
     },
     "metadata": {},
     "output_type": "display_data"
    }
   ],
   "source": [
    "# Get the confusion matrix\n",
    "cm = confusion_matrix(y_test, y_pred)\n",
    "\n",
    "# Plot confusion matrix using seaborn\n",
    "plt.figure(figsize=(8, 6))\n",
    "sns.heatmap(\n",
    "    cm,\n",
    "    annot=True,\n",
    "    fmt=\"g\",\n",
    "    cmap=\"Blues\",\n",
    "    xticklabels=[\"Class 0\", \"Class 1\"],\n",
    "    yticklabels=[\"Class 0\", \"Class 1\"],\n",
    ")\n",
    "plt.xlabel(\"Predicted\")\n",
    "plt.ylabel(\"True\")\n",
    "plt.title(\"Confusion Matrix\")\n",
    "plt.show()"
   ]
  },
  {
   "cell_type": "markdown",
   "id": "35fd28ce-2e5d-4efa-82e0-50222b42da26",
   "metadata": {},
   "source": [
    "# Tree Diagram"
   ]
  },
  {
   "cell_type": "code",
   "execution_count": 38,
   "id": "a601f128-38b8-4c83-8033-b01fecfb9ecc",
   "metadata": {},
   "outputs": [
    {
     "data": {
      "text/plain": [
       "<Axes: >"
      ]
     },
     "execution_count": 38,
     "metadata": {},
     "output_type": "execute_result"
    },
    {
     "data": {
      "image/png": "[encoded data removed]",
      "text/plain": [
       "<Figure size 640x480 with 1 Axes>"
      ]
     },
     "metadata": {},
     "output_type": "display_data"
    }
   ],
   "source": [
    "xgb.plot_tree(model)"
   ]
  }
 ],
 "metadata": {
  "kernelspec": {
   "display_name": "Python 3 (ipykernel)",
   "language": "python",
   "name": "python3"
  },
  "language_info": {
   "codemirror_mode": {
    "name": "ipython",
    "version": 3
   },
   "file_extension": ".py",
   "mimetype": "text/x-python",
   "name": "python",
   "nbconvert_exporter": "python",
   "pygments_lexer": "ipython3",
   "version": "3.10.10"
  }
 },
 "nbformat": 4,
 "nbformat_minor": 5
}
